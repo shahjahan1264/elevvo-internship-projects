{
  "nbformat": 4,
  "nbformat_minor": 0,
  "metadata": {
    "colab": {
      "provenance": []
    },
    "kernelspec": {
      "name": "python3",
      "display_name": "Python 3"
    },
    "language_info": {
      "name": "python"
    }
  },
  "cells": [
    {
      "cell_type": "code",
      "execution_count": 3,
      "metadata": {
        "id": "N7tDuS2tGNut",
        "colab": {
          "base_uri": "https://localhost:8080/"
        },
        "outputId": "25409944-edbf-4482-f72a-45151a0388bb"
      },
      "outputs": [
        {
          "output_type": "stream",
          "name": "stdout",
          "text": [
            "<bound method NDFrame.head of        user_id  movie_id  rating\n",
            "0          196       242       3\n",
            "1          186       302       3\n",
            "2           22       377       1\n",
            "3          244        51       2\n",
            "4          166       346       1\n",
            "...        ...       ...     ...\n",
            "99995      880       476       3\n",
            "99996      716       204       5\n",
            "99997      276      1090       1\n",
            "99998       13       225       2\n",
            "99999       12       203       3\n",
            "\n",
            "[100000 rows x 3 columns]>\n"
          ]
        }
      ],
      "source": [
        "import pandas as pd\n",
        "\n",
        "ratings=pd.read_csv('u.data',sep='\\t',names=['user_id', 'movie_id', 'rating', 'timestamp'])\n",
        "ratings.drop('timestamp', axis=1, inplace=True)\n",
        "print(ratings.head)"
      ]
    },
    {
      "cell_type": "code",
      "source": [
        "user_item=ratings.pivot_table(index='user_id',columns='movie_id',values='rating')\n",
        "print(user_item.head())"
      ],
      "metadata": {
        "colab": {
          "base_uri": "https://localhost:8080/"
        },
        "id": "05pKJcDO60UH",
        "outputId": "34c4332c-598d-48d6-80c5-4d87d78b3c89"
      },
      "execution_count": 4,
      "outputs": [
        {
          "output_type": "stream",
          "name": "stdout",
          "text": [
            "movie_id  1     2     3     4     5     6     7     8     9     10    ...  \\\n",
            "user_id                                                               ...   \n",
            "1          5.0   3.0   4.0   3.0   3.0   5.0   4.0   1.0   5.0   3.0  ...   \n",
            "2          4.0   NaN   NaN   NaN   NaN   NaN   NaN   NaN   NaN   2.0  ...   \n",
            "3          NaN   NaN   NaN   NaN   NaN   NaN   NaN   NaN   NaN   NaN  ...   \n",
            "4          NaN   NaN   NaN   NaN   NaN   NaN   NaN   NaN   NaN   NaN  ...   \n",
            "5          4.0   3.0   NaN   NaN   NaN   NaN   NaN   NaN   NaN   NaN  ...   \n",
            "\n",
            "movie_id  1673  1674  1675  1676  1677  1678  1679  1680  1681  1682  \n",
            "user_id                                                               \n",
            "1          NaN   NaN   NaN   NaN   NaN   NaN   NaN   NaN   NaN   NaN  \n",
            "2          NaN   NaN   NaN   NaN   NaN   NaN   NaN   NaN   NaN   NaN  \n",
            "3          NaN   NaN   NaN   NaN   NaN   NaN   NaN   NaN   NaN   NaN  \n",
            "4          NaN   NaN   NaN   NaN   NaN   NaN   NaN   NaN   NaN   NaN  \n",
            "5          NaN   NaN   NaN   NaN   NaN   NaN   NaN   NaN   NaN   NaN  \n",
            "\n",
            "[5 rows x 1682 columns]\n"
          ]
        }
      ]
    },
    {
      "cell_type": "code",
      "source": [
        "from sklearn.metrics.pairwise import cosine_similarity\n",
        "\n",
        "user_filled=user_item.fillna(0)\n",
        "\n",
        "item_matrix=user_item.fillna(0)  #item\n",
        "item_matrix_T = item_matrix.T    #item\n",
        "item_similarity = cosine_similarity(item_matrix_T) #item\n",
        "item_similarity_df = pd.DataFrame(item_similarity, index=item_matrix_T.index, columns=item_matrix_T.index)\n",
        "\n",
        "\n",
        "user_similarity=cosine_similarity(user_filled)\n",
        "df=pd.DataFrame(user_similarity,index=user_item.index,columns=user_item.index)\n",
        "print(df.head())\n",
        "df.loc[2].sort_values()"
      ],
      "metadata": {
        "colab": {
          "base_uri": "https://localhost:8080/",
          "height": 923
        },
        "id": "ZLnsRoWV_zP6",
        "outputId": "230d0318-06db-4096-907b-85a3a4e5b06d"
      },
      "execution_count": 14,
      "outputs": [
        {
          "output_type": "stream",
          "name": "stdout",
          "text": [
            "user_id       1         2         3         4         5         6         7    \\\n",
            "user_id                                                                         \n",
            "1        1.000000  0.166931  0.047460  0.064358  0.378475  0.430239  0.440367   \n",
            "2        0.166931  1.000000  0.110591  0.178121  0.072979  0.245843  0.107328   \n",
            "3        0.047460  0.110591  1.000000  0.344151  0.021245  0.072415  0.066137   \n",
            "4        0.064358  0.178121  0.344151  1.000000  0.031804  0.068044  0.091230   \n",
            "5        0.378475  0.072979  0.021245  0.031804  1.000000  0.237286  0.373600   \n",
            "\n",
            "user_id       8         9         10   ...       934       935       936  \\\n",
            "user_id                                ...                                 \n",
            "1        0.319072  0.078138  0.376544  ...  0.369527  0.119482  0.274876   \n",
            "2        0.103344  0.161048  0.159862  ...  0.156986  0.307942  0.358789   \n",
            "3        0.083060  0.061040  0.065151  ...  0.031875  0.042753  0.163829   \n",
            "4        0.188060  0.101284  0.060859  ...  0.052107  0.036784  0.133115   \n",
            "5        0.248930  0.056847  0.201427  ...  0.338794  0.080580  0.094924   \n",
            "\n",
            "user_id       937       938       939       940       941       942       943  \n",
            "user_id                                                                        \n",
            "1        0.189705  0.197326  0.118095  0.314072  0.148617  0.179508  0.398175  \n",
            "2        0.424046  0.319889  0.228583  0.226790  0.161485  0.172268  0.105798  \n",
            "3        0.069038  0.124245  0.026271  0.161890  0.101243  0.133416  0.026556  \n",
            "4        0.193471  0.146058  0.030138  0.196858  0.152041  0.170086  0.058752  \n",
            "5        0.079779  0.148607  0.071459  0.239955  0.139595  0.152497  0.313941  \n",
            "\n",
            "[5 rows x 943 columns]\n"
          ]
        },
        {
          "output_type": "execute_result",
          "data": {
            "text/plain": [
              "user_id\n",
              "571    0.000000\n",
              "670    0.000000\n",
              "172    0.000000\n",
              "778    0.007685\n",
              "565    0.012141\n",
              "         ...   \n",
              "131    0.476880\n",
              "460    0.504418\n",
              "931    0.512473\n",
              "701    0.580636\n",
              "2      1.000000\n",
              "Name: 2, Length: 943, dtype: float64"
            ],
            "text/html": [
              "<div>\n",
              "<style scoped>\n",
              "    .dataframe tbody tr th:only-of-type {\n",
              "        vertical-align: middle;\n",
              "    }\n",
              "\n",
              "    .dataframe tbody tr th {\n",
              "        vertical-align: top;\n",
              "    }\n",
              "\n",
              "    .dataframe thead th {\n",
              "        text-align: right;\n",
              "    }\n",
              "</style>\n",
              "<table border=\"1\" class=\"dataframe\">\n",
              "  <thead>\n",
              "    <tr style=\"text-align: right;\">\n",
              "      <th></th>\n",
              "      <th>2</th>\n",
              "    </tr>\n",
              "    <tr>\n",
              "      <th>user_id</th>\n",
              "      <th></th>\n",
              "    </tr>\n",
              "  </thead>\n",
              "  <tbody>\n",
              "    <tr>\n",
              "      <th>571</th>\n",
              "      <td>0.000000</td>\n",
              "    </tr>\n",
              "    <tr>\n",
              "      <th>670</th>\n",
              "      <td>0.000000</td>\n",
              "    </tr>\n",
              "    <tr>\n",
              "      <th>172</th>\n",
              "      <td>0.000000</td>\n",
              "    </tr>\n",
              "    <tr>\n",
              "      <th>778</th>\n",
              "      <td>0.007685</td>\n",
              "    </tr>\n",
              "    <tr>\n",
              "      <th>565</th>\n",
              "      <td>0.012141</td>\n",
              "    </tr>\n",
              "    <tr>\n",
              "      <th>...</th>\n",
              "      <td>...</td>\n",
              "    </tr>\n",
              "    <tr>\n",
              "      <th>131</th>\n",
              "      <td>0.476880</td>\n",
              "    </tr>\n",
              "    <tr>\n",
              "      <th>460</th>\n",
              "      <td>0.504418</td>\n",
              "    </tr>\n",
              "    <tr>\n",
              "      <th>931</th>\n",
              "      <td>0.512473</td>\n",
              "    </tr>\n",
              "    <tr>\n",
              "      <th>701</th>\n",
              "      <td>0.580636</td>\n",
              "    </tr>\n",
              "    <tr>\n",
              "      <th>2</th>\n",
              "      <td>1.000000</td>\n",
              "    </tr>\n",
              "  </tbody>\n",
              "</table>\n",
              "<p>943 rows × 1 columns</p>\n",
              "</div><br><label><b>dtype:</b> float64</label>"
            ]
          },
          "metadata": {},
          "execution_count": 14
        }
      ]
    },
    {
      "cell_type": "code",
      "source": [
        "def show_movie_titles(movie_ids, movies_df):\n",
        "    df = pd.DataFrame({'movie_id': movie_ids})\n",
        "    df = df.merge(movies_df, on='movie_id', how='left')\n",
        "    return df[['movie_id', 'movie_title']]"
      ],
      "metadata": {
        "id": "YPpD35GsMTJB"
      },
      "execution_count": 23,
      "outputs": []
    },
    {
      "cell_type": "code",
      "source": [
        "target_user=1\n",
        "s_users=df.loc[target_user]\n",
        "s_users=s_users.drop(index=target_user).sort_values(ascending=False)\n",
        "\n",
        "print(s_users.head())\n",
        "\n",
        "top_user=s_users.head(10).index\n",
        "r_users=user_item.loc[top_user]\n",
        "print(r_users.head())\n",
        "\n",
        "user_ratings = user_item.loc[target_user].dropna()\n",
        "liked_movies = user_ratings[user_ratings >= 4]"
      ],
      "metadata": {
        "colab": {
          "base_uri": "https://localhost:8080/"
        },
        "id": "yc10a1dfEIQg",
        "outputId": "ab77158a-aa9e-495d-c7e5-3751735778ec"
      },
      "execution_count": 17,
      "outputs": [
        {
          "output_type": "stream",
          "name": "stdout",
          "text": [
            "user_id\n",
            "916    0.569066\n",
            "864    0.547548\n",
            "268    0.542077\n",
            "92     0.540534\n",
            "435    0.538665\n",
            "Name: 1, dtype: float64\n",
            "movie_id  1     2     3     4     5     6     7     8     9     10    ...  \\\n",
            "user_id                                                               ...   \n",
            "916        4.0   3.0   3.0   4.0   3.0   NaN   4.0   NaN   5.0   NaN  ...   \n",
            "864        5.0   4.0   NaN   4.0   4.0   NaN   5.0   5.0   5.0   NaN  ...   \n",
            "268        3.0   2.0   1.0   4.0   NaN   NaN   4.0   NaN   NaN   4.0  ...   \n",
            "92         4.0   3.0   NaN   4.0   4.0   NaN   4.0   5.0   4.0   NaN  ...   \n",
            "435        5.0   4.0   3.0   4.0   2.0   NaN   4.0   3.0   4.0   5.0  ...   \n",
            "\n",
            "movie_id  1673  1674  1675  1676  1677  1678  1679  1680  1681  1682  \n",
            "user_id                                                               \n",
            "916        NaN   NaN   NaN   NaN   NaN   NaN   NaN   NaN   NaN   3.0  \n",
            "864        NaN   NaN   NaN   NaN   NaN   NaN   NaN   NaN   NaN   NaN  \n",
            "268        NaN   NaN   NaN   NaN   NaN   NaN   NaN   NaN   NaN   NaN  \n",
            "92         NaN   NaN   NaN   NaN   NaN   NaN   NaN   NaN   NaN   NaN  \n",
            "435        NaN   NaN   NaN   NaN   NaN   NaN   NaN   NaN   NaN   NaN  \n",
            "\n",
            "[5 rows x 1682 columns]\n"
          ]
        }
      ]
    },
    {
      "cell_type": "markdown",
      "source": [
        "Movie Recommendations using item"
      ],
      "metadata": {
        "id": "ZiFniuHDArEz"
      }
    },
    {
      "cell_type": "code",
      "source": [
        "scores = pd.Series(dtype='float64')\n",
        "\n",
        "for movie_id, rating in liked_movies.items():\n",
        "    similar_scores = item_similarity_df[movie_id] * rating\n",
        "    scores = scores.add(similar_scores, fill_value=0)"
      ],
      "metadata": {
        "id": "1OYWhQaZAIB_"
      },
      "execution_count": 18,
      "outputs": []
    },
    {
      "cell_type": "markdown",
      "source": [
        "Filter already seen movies"
      ],
      "metadata": {
        "id": "TEIrgPjjCnHl"
      }
    },
    {
      "cell_type": "code",
      "source": [
        "recommended = scores.drop(user_ratings.index, errors='ignore')\n",
        "\n",
        "top_recommendations = recommended.sort_values(ascending=False).head(10)\n",
        "\n",
        "print(\"Top Recommended Movie IDs:\", top_recommendations.index.tolist())"
      ],
      "metadata": {
        "colab": {
          "base_uri": "https://localhost:8080/"
        },
        "id": "xGa0tssnCiJP",
        "outputId": "6d960a9e-3e1d-4c9f-8886-71ceafd28248"
      },
      "execution_count": 20,
      "outputs": [
        {
          "output_type": "stream",
          "name": "stdout",
          "text": [
            "Top Recommended Movie IDs: [423, 655, 318, 357, 568, 403, 385, 483, 433, 367]\n"
          ]
        }
      ]
    },
    {
      "cell_type": "markdown",
      "source": [
        "Movie Titles"
      ],
      "metadata": {
        "id": "GdPDIPZGDHGT"
      }
    },
    {
      "cell_type": "code",
      "source": [
        "top_df = top_recommendations.reset_index()\n",
        "top_df.columns = ['movie_id', 'score']\n",
        "top_df = top_df.merge(movies, on='movie_id')\n",
        "print(top_df[['movie_title', 'score']])"
      ],
      "metadata": {
        "colab": {
          "base_uri": "https://localhost:8080/"
        },
        "id": "q6B888U1C-xh",
        "outputId": "ab3b6c65-788c-4f5b-cf4c-1aaa75afb9d9"
      },
      "execution_count": 21,
      "outputs": [
        {
          "output_type": "stream",
          "name": "stdout",
          "text": [
            "                              movie_title       score\n",
            "0       E.T. the Extra-Terrestrial (1982)  301.454880\n",
            "1                      Stand by Me (1986)  281.806850\n",
            "2                 Schindler's List (1993)  278.354491\n",
            "3  One Flew Over the Cuckoo's Nest (1975)  275.833487\n",
            "4                            Speed (1994)  274.996916\n",
            "5                           Batman (1989)  271.503827\n",
            "6                        True Lies (1994)  269.864722\n",
            "7                       Casablanca (1942)  269.032542\n",
            "8                         Heathers (1989)  266.377917\n",
            "9                         Clueless (1995)  266.160860\n"
          ]
        }
      ]
    },
    {
      "cell_type": "markdown",
      "source": [
        "Avg rating for unseen movies"
      ],
      "metadata": {
        "id": "uJiIZlREIliu"
      }
    },
    {
      "cell_type": "code",
      "source": [
        "seen_movies=user_item.loc[target_user].dropna().index\n",
        "\n",
        "unseen_ratings=r_users.drop(columns=seen_movies)\n",
        "\n",
        "recommendations=unseen_ratings.mean().sort_values(ascending=False)\n",
        "\n",
        "print(\"Top movie IDs to recommend to user 1:\\n\")\n",
        "print(recommendations.head(10))"
      ],
      "metadata": {
        "colab": {
          "base_uri": "https://localhost:8080/"
        },
        "id": "2FWxfLOTOzBw",
        "outputId": "635ac6ee-63e5-43d0-f1ca-5ade7f79636b"
      },
      "execution_count": 8,
      "outputs": [
        {
          "output_type": "stream",
          "name": "stdout",
          "text": [
            "Top movie IDs to recommend to user 1:\n",
            "\n",
            "movie_id\n",
            "1168    5.0\n",
            "313     5.0\n",
            "1009    5.0\n",
            "1019    5.0\n",
            "1007    5.0\n",
            "963     5.0\n",
            "853     5.0\n",
            "855     5.0\n",
            "736     5.0\n",
            "632     5.0\n",
            "dtype: float64\n"
          ]
        }
      ]
    },
    {
      "cell_type": "code",
      "source": [
        "\n",
        "movie_cols = ['movie_id', 'movie_title', 'release_date', 'video_release', 'IMDb', 'unknown', 'Action', 'Adventure',\n",
        "              'Animation', 'Children\\'s', 'Comedy', 'Crime', 'Documentary', 'Drama', 'Fantasy',\n",
        "              'Film-Noir', 'Horror', 'Musical', 'Mystery', 'Romance', 'Sci-Fi', 'Thriller', 'War', 'Western']\n",
        "\n",
        "movies = pd.read_csv('u.item', sep='|', encoding='latin-1', names=movie_cols, usecols=[0, 1,2])\n",
        "\n",
        "print(movies.head())\n"
      ],
      "metadata": {
        "colab": {
          "base_uri": "https://localhost:8080/"
        },
        "id": "C2gQs1eOZBJB",
        "outputId": "f8b7f58a-8db8-4eaf-a89b-741f37da9d2e"
      },
      "execution_count": 9,
      "outputs": [
        {
          "output_type": "stream",
          "name": "stdout",
          "text": [
            "   movie_id        movie_title release_date\n",
            "0         1   Toy Story (1995)  01-Jan-1995\n",
            "1         2   GoldenEye (1995)  01-Jan-1995\n",
            "2         3  Four Rooms (1995)  01-Jan-1995\n",
            "3         4  Get Shorty (1995)  01-Jan-1995\n",
            "4         5     Copycat (1995)  01-Jan-1995\n"
          ]
        }
      ]
    },
    {
      "cell_type": "code",
      "source": [
        "recommendations_df=recommendations.reset_index()\n",
        "recommendations_df.columns = ['movie_id', 'predicted_rating']\n",
        "\n",
        "recommendations_df = recommendations_df.merge(movies, on='movie_id')\n",
        "print(recommendations_df[['movie_title', 'predicted_rating']].head(10))"
      ],
      "metadata": {
        "colab": {
          "base_uri": "https://localhost:8080/"
        },
        "id": "76h_UojCZNSr",
        "outputId": "aa021bd0-5635-4db6-f0a5-379d684ac038"
      },
      "execution_count": 10,
      "outputs": [
        {
          "output_type": "stream",
          "name": "stdout",
          "text": [
            "                                 movie_title  predicted_rating\n",
            "0                       Little Buddha (1993)               5.0\n",
            "1                             Titanic (1997)               5.0\n",
            "2                     Stealing Beauty (1996)               5.0\n",
            "3  Die xue shuang xiong (Killer, The) (1989)               5.0\n",
            "4                 Waiting for Guffman (1996)               5.0\n",
            "5    Some Folks Call It a Sling Blade (1993)               5.0\n",
            "6                           Braindead (1992)               5.0\n",
            "7                                Diva (1981)               5.0\n",
            "8                         Shadowlands (1993)               5.0\n",
            "9                     Sophie's Choice (1982)               5.0\n"
          ]
        }
      ]
    },
    {
      "cell_type": "markdown",
      "source": [
        "PrecisionK evaluation for user"
      ],
      "metadata": {
        "id": "lsnUwYvmFYRM"
      }
    },
    {
      "cell_type": "code",
      "source": [
        "import numpy as np\n",
        "\n",
        "# 1️⃣ Choose a user\n",
        "target_user = 100\n",
        "\n",
        "# 2️⃣ Get all movies they rated (ground truth)\n",
        "user_ratings = user_item.loc[target_user].dropna()\n",
        "\n",
        "# If user has rated fewer than K movies, choose another\n",
        "if len(user_ratings) < 10:\n",
        "    print(\"Choose a user with at least 10 ratings\")\n",
        "else:\n",
        "    # 3️⃣ Randomly select K of them to hide\n",
        "    K = 10\n",
        "    hidden_movies = np.random.choice(user_ratings.index, size=K, replace=False)\n",
        "\n",
        "    # 4️⃣ Temporarily remove them from the user's ratings\n",
        "    user_item_hidden = user_item.copy()\n",
        "    user_item_hidden.loc[target_user, hidden_movies] = np.nan\n",
        "\n",
        "    # Re-run recommendation with updated matrix (fill NaNs)\n",
        "    filled_matrix = user_item_hidden.fillna(0)\n",
        "    user_sim = cosine_similarity(filled_matrix)\n",
        "    sim_df = pd.DataFrame(user_sim, index=filled_matrix.index, columns=filled_matrix.index)\n",
        "\n",
        "    similar_users = sim_df.loc[target_user].drop(index=target_user).sort_values(ascending=False)\n",
        "    top_users = similar_users.head(40).index\n",
        "    top_ratings = user_item.loc[top_users]\n",
        "\n",
        "    unseen_movies = top_ratings.drop(columns=user_item.loc[target_user].dropna().index)\n",
        "    pred_ratings = unseen_movies.mean().sort_values(ascending=False)\n",
        "\n",
        "    # Top K recommendations\n",
        "    top_k_recommendations = pred_ratings.head(K).index\n",
        "\n",
        "    # 5️⃣ Evaluate: how many of the hidden ones are in top K?\n",
        "    hits = set(hidden_movies).intersection(set(top_k_recommendations))\n",
        "    precision_at_k = len(hits) / K\n",
        "\n",
        "    print(f\"Hidden movies: {hidden_movies}\")\n",
        "    print(f\"Top-{K} recommendations: {top_k_recommendations.tolist()}\")\n",
        "    print(\"Top Recommended Movie Titles (User-Based):\")\n",
        "    print(show_movie_titles(top_recommendations.index, movies))\n",
        "\n",
        "    print(f\"Hits (correctly recommended): {hits}\")\n",
        "    print(f\"Precision@{K}: {precision_at_k:.2f}\")\n",
        "\n"
      ],
      "metadata": {
        "colab": {
          "base_uri": "https://localhost:8080/"
        },
        "id": "NBl-L0iig45P",
        "outputId": "8f132564-bdec-4a24-e363-63513b080ceb"
      },
      "execution_count": 25,
      "outputs": [
        {
          "output_type": "stream",
          "name": "stdout",
          "text": [
            "Hidden movies: [ 333  690  886  751 1236  895  313  990  874  294]\n",
            "Top-10 recommendations: [9, 1293, 1175, 276, 884, 86, 100, 1612, 513, 511]\n",
            "Top Recommended Movie Titles (User-Based):\n",
            "   movie_id                             movie_title\n",
            "0       423       E.T. the Extra-Terrestrial (1982)\n",
            "1       655                      Stand by Me (1986)\n",
            "2       318                 Schindler's List (1993)\n",
            "3       357  One Flew Over the Cuckoo's Nest (1975)\n",
            "4       568                            Speed (1994)\n",
            "5       403                           Batman (1989)\n",
            "6       385                        True Lies (1994)\n",
            "7       483                       Casablanca (1942)\n",
            "8       433                         Heathers (1989)\n",
            "9       367                         Clueless (1995)\n",
            "Hits (correctly recommended): set()\n",
            "Precision@10: 0.00\n"
          ]
        }
      ]
    },
    {
      "cell_type": "markdown",
      "source": [
        "PrecisionK evaluation for item"
      ],
      "metadata": {
        "id": "91zXEYzKL8cf"
      }
    },
    {
      "cell_type": "code",
      "source": [
        "import numpy as np\n",
        "\n",
        "# Choose a target user with enough ratings\n",
        "target_user = 1\n",
        "user_ratings = user_item.loc[target_user].dropna()\n",
        "\n",
        "# Filter to only movies with sufficient ratings\n",
        "popular_rated = [movie for movie in user_ratings.index if user_item[movie].count() >= 30]\n",
        "\n",
        "K = 5\n",
        "if len(popular_rated) >= K:\n",
        "    # Randomly hide K liked movies\n",
        "    hidden_movies = np.random.choice(popular_rated, size=K, replace=False)\n",
        "\n",
        "    # Create a modified rating matrix with hidden movies removed\n",
        "    modified_ratings = user_ratings.drop(index=hidden_movies)\n",
        "    liked_movies = modified_ratings[modified_ratings >= 4]\n",
        "\n",
        "    # Score similar movies using item-based filtering\n",
        "    scores = pd.Series(dtype='float64')\n",
        "    for movie_id, rating in liked_movies.items():\n",
        "        similar_scores = item_similarity_df[movie_id] * rating\n",
        "        scores = scores.add(similar_scores, fill_value=0)\n",
        "\n",
        "    # Drop already seen movies and sort\n",
        "    recommendations = scores.drop(modified_ratings.index, errors='ignore')\n",
        "    top_k_recommendations = recommendations.sort_values(ascending=False).head(K).index\n",
        "\n",
        "    # Evaluate hits\n",
        "    hits = set(hidden_movies).intersection(set(top_k_recommendations))\n",
        "    precision_at_k = len(hits) / K\n",
        "\n",
        "    print(\"Hidden movies:\", hidden_movies)\n",
        "    print(\"Titles of Hidden Movies (Actual Likes):\")\n",
        "    print(show_movie_titles(hidden_movies, movies))\n",
        "    print(\"Top-K recommendations:\", list(top_k_recommendations))\n",
        "    print(\"Top Recommended Movie Titles (Item-Based):\")\n",
        "    print(show_movie_titles(top_k_recommendations, movies))\n",
        "\n",
        "    print(\"Hits (correctly recommended):\", hits)\n",
        "    print(f\"Precision@{K}:\", round(precision_at_k, 2))\n",
        "else:\n",
        "    print(\"Not enough popular movies rated by the user to evaluate.\")\n"
      ],
      "metadata": {
        "colab": {
          "base_uri": "https://localhost:8080/"
        },
        "id": "XldXsv3ZL7DZ",
        "outputId": "32cf58d7-0a21-49fd-ddb6-4c922f72e7c0"
      },
      "execution_count": 26,
      "outputs": [
        {
          "output_type": "stream",
          "name": "stdout",
          "text": [
            "Hidden movies: [229  69 219  73 139]\n",
            "Titles of Hidden Movies (Actual Likes):\n",
            "   movie_id                                 movie_title\n",
            "0       229  Star Trek III: The Search for Spock (1984)\n",
            "1        69                         Forrest Gump (1994)\n",
            "2       219           Nightmare on Elm Street, A (1984)\n",
            "3        73                             Maverick (1994)\n",
            "4       139                        Love Bug, The (1969)\n",
            "Top-K recommendations: [69, 423, 655, 318, 357]\n",
            "Top Recommended Movie Titles (Item-Based):\n",
            "   movie_id                             movie_title\n",
            "0        69                     Forrest Gump (1994)\n",
            "1       423       E.T. the Extra-Terrestrial (1982)\n",
            "2       655                      Stand by Me (1986)\n",
            "3       318                 Schindler's List (1993)\n",
            "4       357  One Flew Over the Cuckoo's Nest (1975)\n",
            "Hits (correctly recommended): {69}\n",
            "Precision@5: 0.2\n"
          ]
        }
      ]
    }
  ]
}